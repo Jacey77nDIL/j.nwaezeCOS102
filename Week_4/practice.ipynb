{
 "cells": [
  {
   "cell_type": "code",
   "execution_count": null,
   "metadata": {},
   "outputs": [],
   "source": [
    "#Practice 1\n",
    "\n",
    "def printme( str ):\n",
    "    print (str);\n",
    "    return;\n",
    "\n",
    "printme(\"I am first call to user defined function!\");\n",
    "printme(\"Again second call to the same function\");"
   ]
  },
  {
   "cell_type": "code",
   "execution_count": null,
   "metadata": {},
   "outputs": [],
   "source": [
    "#Practice 2\n",
    "def changeme(mylist):\n",
    "    mylist.append([1,2,3,4])\n",
    "    print (\"Values inside the function: \", mylist)\n",
    "    return\n",
    "mylist = [10, 20, 30]\n",
    "changeme(mylist)\n",
    "print (\"Values outside the function: \", mylist)\n"
   ]
  },
  {
   "cell_type": "code",
   "execution_count": null,
   "metadata": {},
   "outputs": [],
   "source": [
    "#Practice 3\n",
    "def changeme(mylist):\n",
    "    mylist = [1,2,3,4];\n",
    "    print (\"Values inside the function: \", mylist)\n",
    "    return\n",
    "mylist = [10, 20, 30];\n",
    "changeme(mylist);\n",
    "print (\"Values outside the function: \", mylist)\n"
   ]
  },
  {
   "cell_type": "code",
   "execution_count": null,
   "metadata": {},
   "outputs": [],
   "source": [
    "#Practice 4\n",
    "\n",
    "def printme( str ):\n",
    "    print (str);\n",
    "    return;\n",
    "\n",
    "printme(str = \"My string\");"
   ]
  },
  {
   "cell_type": "code",
   "execution_count": null,
   "metadata": {},
   "outputs": [],
   "source": [
    "#practice 5\n",
    "\n",
    "def printinfo(name, age):\n",
    "    print (\"Name: \", name);\n",
    "    print (\"Age: \", age);\n",
    "    return;\n",
    "printinfo( age = 50, name = \"miki\");"
   ]
  },
  {
   "cell_type": "code",
   "execution_count": null,
   "metadata": {},
   "outputs": [],
   "source": [
    "#practice 6\n",
    "\n",
    "def printinfo(name, age = 35):\n",
    "    print (\"Name: \", name);\n",
    "    print (\"Age: \", age);\n",
    "    return;\n",
    "printinfo( age = 50, name = \"miki\");\n",
    "printinfo( name = \"miki\");"
   ]
  },
  {
   "cell_type": "code",
   "execution_count": null,
   "metadata": {},
   "outputs": [],
   "source": [
    "#practice 7\n",
    "\n",
    "def printinfo(arg1, *vartuple):\n",
    "    print (\"Output is: \")\n",
    "    print (arg1)\n",
    "    for var in vartuple:\n",
    "        print(var)\n",
    "        return;\n",
    "printinfo( 10 );\n",
    "printinfo( 70, 60, 50 );"
   ]
  },
  {
   "cell_type": "code",
   "execution_count": null,
   "metadata": {},
   "outputs": [],
   "source": [
    "# practice 8\n",
    "\n",
    "total = 50;\n",
    "def sum(arg1, arg2):\n",
    "    total = arg1 + arg2;\n",
    "    print (\"Inside the local function total: \", total)\n",
    "    return total;\n",
    "    \n",
    "sum(10, 20);\n",
    "print (\"Outside the local function total: \", total)"
   ]
  },
  {
   "cell_type": "code",
   "execution_count": null,
   "metadata": {},
   "outputs": [],
   "source": [
    "#practice 9\n",
    "\n",
    "def swap(x, y):\n",
    "    a = \"Lawal\"\n",
    "    x,y = y,x\n",
    "    b = \"Chris\"\n",
    "    c = \"Edward\"\n",
    "    d = \"Lola\"\n",
    "    print (a,b,x,y);\n",
    "    a = \"Mary\"\n",
    "swap (\"Tina\", \"Tolu\")\n",
    "printinfo( a );"
   ]
  }
 ],
 "metadata": {
  "language_info": {
   "name": "python"
  }
 },
 "nbformat": 4,
 "nbformat_minor": 2
}
